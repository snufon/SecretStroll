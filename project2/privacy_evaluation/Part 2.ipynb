{
 "cells": [
  {
   "cell_type": "markdown",
   "metadata": {},
   "source": [
    "## Part 2.2"
   ]
  },
  {
   "cell_type": "code",
   "execution_count": 1,
   "metadata": {},
   "outputs": [],
   "source": [
    "import csv"
   ]
  },
  {
   "cell_type": "code",
   "execution_count": 2,
   "metadata": {},
   "outputs": [
    {
     "name": "stdout",
     "output_type": "stream",
     "text": [
      "('Tuesday', 6.5)\n"
     ]
    }
   ],
   "source": [
    "int_to_weekday = {\n",
    "    0: \"Monday\",\n",
    "    1: \"Tuesday\",\n",
    "    2: \"Wednesday\",\n",
    "    3: \"Thursday\",\n",
    "    4: \"Friday\",\n",
    "    5: \"Saturday\",\n",
    "    6: \"Sunday\"\n",
    "}\n",
    "        \n",
    "def timestamp_to_weekday_and_hour(timestamp) :\n",
    "    return int_to_weekday.get(int((timestamp/24) % 7)), timestamp % 24 \n",
    "print(timestamp_to_weekday_and_hour(30.5))"
   ]
  },
  {
   "cell_type": "markdown",
   "metadata": {},
   "source": [
    "This means Tuesday 06:30. This translation will be very practical in attacks.\n",
    "\n",
    "Let us do an arbitrary search which only keeps queries for clubs performed between midnight and 1am on Tuesdays :"
   ]
  },
  {
   "cell_type": "code",
   "execution_count": 3,
   "metadata": {
    "scrolled": true
   },
   "outputs": [
    {
     "name": "stdout",
     "output_type": "stream",
     "text": [
      "210.68.124.185, 46.56336871719933, 6.648431242252003, 24.000999171226507, club\n",
      "197.134.251.204, 46.51384877401542, 6.638021175914131, 192.158234557433, club\n",
      "250.71.124.231, 46.55215382261362, 6.604171825604082, 192.47575231364215, club\n",
      "247.196.95.171, 46.544409611768295, 6.579111041539487, 192.55236588701695, club\n"
     ]
    }
   ],
   "source": [
    "with open('queries.csv', newline='') as csvfile:\n",
    "    queriesReader = csv.reader(csvfile, delimiter=' ', quotechar='|')\n",
    "    has_header = csv.Sniffer().has_header(csvfile.read(1024))\n",
    "    if has_header:\n",
    "        next(queriesReader)\n",
    "    for row in queriesReader:\n",
    "        weekday, hour = timestamp_to_weekday_and_hour(float(row[3]))\n",
    "        if weekday == \"Tuesday\" and hour < 1 and row[4] == \"club\" :\n",
    "            print(', '.join(row))"
   ]
  },
  {
   "cell_type": "markdown",
   "metadata": {},
   "source": [
    "As expected, there are not many results. Those 4 people could prove to be ideal victims of a ransomware attack. Let's try to learn more about the first user by filtering on its IP as well as only keeping queries of cafeterias :"
   ]
  },
  {
   "cell_type": "code",
   "execution_count": 4,
   "metadata": {},
   "outputs": [
    {
     "name": "stdout",
     "output_type": "stream",
     "text": [
      "210.68.124.185, 46.53976081739804, 6.574063213164034, 11.702267726620121, cafeteria\n",
      "('Monday', 11.702267726620121)\n",
      "210.68.124.185, 46.53976081739804, 6.574063213164034, 34.50672801621601, cafeteria\n",
      "('Tuesday', 10.506728016216009)\n",
      "210.68.124.185, 46.53976081739804, 6.574063213164034, 59.71451503914215, cafeteria\n",
      "('Wednesday', 11.71451503914215)\n",
      "210.68.124.185, 46.53976081739804, 6.574063213164034, 84.38001956058253, cafeteria\n",
      "('Thursday', 12.380019560582525)\n",
      "210.68.124.185, 46.53976081739804, 6.574063213164034, 108.59528266831816, cafeteria\n",
      "('Friday', 12.595282668318163)\n",
      "210.68.124.185, 46.53976081739804, 6.574063213164034, 180.02441857824775, cafeteria\n",
      "('Monday', 12.024418578247747)\n",
      "210.68.124.185, 46.53976081739804, 6.574063213164034, 203.04560260796723, cafeteria\n",
      "('Tuesday', 11.045602607967226)\n",
      "210.68.124.185, 46.53976081739804, 6.574063213164034, 227.94540536756293, cafeteria\n",
      "('Wednesday', 11.945405367562927)\n",
      "210.68.124.185, 46.53976081739804, 6.574063213164034, 252.43632281906264, cafeteria\n",
      "('Thursday', 12.436322819062639)\n",
      "210.68.124.185, 46.53976081739804, 6.574063213164034, 274.88060533601976, cafeteria\n",
      "('Friday', 10.880605336019755)\n",
      "210.68.124.185, 46.53976081739804, 6.574063213164034, 346.08833706823157, cafeteria\n",
      "('Monday', 10.088337068231567)\n",
      "210.68.124.185, 46.53976081739804, 6.574063213164034, 371.69815689120355, cafeteria\n",
      "('Tuesday', 11.698156891203553)\n",
      "210.68.124.185, 46.53976081739804, 6.574063213164034, 397.3421761527085, cafeteria\n",
      "('Wednesday', 13.342176152708475)\n",
      "210.68.124.185, 46.53976081739804, 6.574063213164034, 419.7322795993179, cafeteria\n",
      "('Thursday', 11.732279599317906)\n",
      "210.68.124.185, 46.53976081739804, 6.574063213164034, 445.14636552594277, cafeteria\n",
      "('Friday', 13.14636552594277)\n"
     ]
    }
   ],
   "source": [
    "with open('queries.csv', newline='') as csvfile:\n",
    "    queriesReader = csv.reader(csvfile, delimiter=' ', quotechar='|')\n",
    "    for row in queriesReader:\n",
    "        if row[0] == \"210.68.124.185\" and row[4] == \"cafeteria\":\n",
    "            print(', '.join(row))\n",
    "            print(timestamp_to_weekday_and_hour(float(row[3])))"
   ]
  },
  {
   "cell_type": "markdown",
   "metadata": {},
   "source": [
    "Since these searches cover each of the 5 working days and are always sourced at the exact same location around lunch time, we can confidently say we know exactly where this user work. In this example, assume we now know its employer. Let us now try to find out where the user lives by filtering on its \"supermarket\" queries :"
   ]
  },
  {
   "cell_type": "code",
   "execution_count": 5,
   "metadata": {},
   "outputs": [
    {
     "name": "stdout",
     "output_type": "stream",
     "text": [
      "210.68.124.185, 46.56920952755545, 6.64953112929113, 17.660631454803113, supermarket\n",
      "('Monday', 17.660631454803113)\n",
      "210.68.124.185, 46.56920952755545, 6.64953112929113, 43.62313486438009, supermarket\n",
      "('Tuesday', 19.62313486438009)\n",
      "210.68.124.185, 46.56336871719933, 6.648431242252003, 24.000999171226507, supermarket\n",
      "('Tuesday', 0.0009991712265069452)\n",
      "210.68.124.185, 46.56596058841714, 6.642228369125065, 69.31305252574826, supermarket\n",
      "('Wednesday', 21.31305252574826)\n",
      "210.68.124.185, 46.56920952755545, 6.64953112929113, 89.10384857262238, supermarket\n",
      "('Thursday', 17.103848572622383)\n",
      "210.68.124.185, 46.56596058841714, 6.642228369125065, 94.4445729732377, supermarket\n",
      "('Thursday', 22.444572973237698)\n",
      "210.68.124.185, 46.56920952755545, 6.64953112929113, 113.61852528201781, supermarket\n",
      "('Friday', 17.618525282017814)\n",
      "210.68.124.185, 46.56596058841714, 6.642228369125065, 128.04058654198784, supermarket\n",
      "('Saturday', 8.040586541987835)\n",
      "210.68.124.185, 46.56596058841714, 6.642228369125065, 188.631825603119, supermarket\n",
      "('Monday', 20.63182560311901)\n",
      "210.68.124.185, 46.56602075384202, 6.643414048570928, 237.35714794043915, supermarket\n",
      "('Wednesday', 21.357147940439148)\n",
      "210.68.124.185, 46.56920952755545, 6.64953112929113, 297.37760167993076, supermarket\n",
      "('Saturday', 9.377601679930763)\n",
      "210.68.124.185, 46.56596058841714, 6.642228369125065, 320.9086966175637, supermarket\n",
      "('Sunday', 8.908696617563692)\n",
      "210.68.124.185, 46.56920952755545, 6.64953112929113, 354.45264434090996, supermarket\n",
      "('Monday', 18.452644340909956)\n",
      "210.68.124.185, 46.56917669301612, 6.642400892973268, 381.81057587389324, supermarket\n",
      "('Tuesday', 21.810575873893242)\n",
      "210.68.124.185, 46.56920952755545, 6.64953112929113, 402.9124719760297, supermarket\n",
      "('Wednesday', 18.91247197602968)\n",
      "210.68.124.185, 46.56336871719933, 6.648431242252003, 406.5214907870679, supermarket\n",
      "('Wednesday', 22.521490787067876)\n",
      "210.68.124.185, 46.56920952755545, 6.64953112929113, 427.12883821205986, supermarket\n",
      "('Thursday', 19.12883821205986)\n",
      "210.68.124.185, 46.56336871719933, 6.648431242252003, 430.5496669270286, supermarket\n",
      "('Thursday', 22.549666927028625)\n",
      "210.68.124.185, 46.56920952755545, 6.64953112929113, 449.4626990632098, supermarket\n",
      "('Friday', 17.46269906320981)\n",
      "210.68.124.185, 46.56336871719933, 6.648431242252003, 454.6217522340039, supermarket\n",
      "('Friday', 22.621752234003907)\n",
      "210.68.124.185, 46.56920952755545, 6.64953112929113, 464.1135906868431, supermarket\n",
      "('Saturday', 8.11359068684311)\n"
     ]
    }
   ],
   "source": [
    "with open('queries.csv', newline='') as csvfile:\n",
    "    queriesReader = csv.reader(csvfile, delimiter=' ', quotechar='|')\n",
    "    for row in queriesReader:\n",
    "        if row[0] == \"210.68.124.185\" and row[4] == \"supermarket\":\n",
    "            print(', '.join(row))\n",
    "            print(timestamp_to_weekday_and_hour(float(row[3])))"
   ]
  },
  {
   "cell_type": "markdown",
   "metadata": {},
   "source": [
    "We learn of 2 new locations which are close to each other (700m according to Google Maps), which is weird and is probably due to the fact that this is a simulated dataset. We see that weekend days are included : we are confident this is where the user lives. Identifying him thanks to his address and its workplace should be easy, though in this case slightly complicated because of the fact that there are 2 different locations. We could, for the sake of the example, assume that the rarer location is the house of the user's best friend for example, and would necessitate checking both adresses until we successfully find an employee of the previously identified company/employer. We could then threaten him to reveal his clubbing habits to its employer for example. Let us see this habit in more detail :"
   ]
  },
  {
   "cell_type": "code",
   "execution_count": 6,
   "metadata": {
    "scrolled": true
   },
   "outputs": [
    {
     "name": "stdout",
     "output_type": "stream",
     "text": [
      "210.68.124.185, 46.56920952755545, 6.64953112929113, 17.660631454803113, club\n",
      "('Monday', 17.660631454803113)\n",
      "210.68.124.185, 46.56336871719933, 6.648431242252003, 24.000999171226507, club\n",
      "('Tuesday', 0.0009991712265069452)\n",
      "210.68.124.185, 46.56596058841714, 6.642228369125065, 69.31305252574826, club\n",
      "('Wednesday', 21.31305252574826)\n",
      "210.68.124.185, 46.56596058841714, 6.642228369125065, 117.90671732023733, club\n",
      "('Friday', 21.906717320237334)\n",
      "210.68.124.185, 46.56920952755545, 6.64953112929113, 153.6845968833121, club\n",
      "('Sunday', 9.68459688331211)\n",
      "210.68.124.185, 46.56920952755545, 6.64953112929113, 209.74748534599888, club\n",
      "('Tuesday', 17.747485345998882)\n",
      "210.68.124.185, 46.56920952755545, 6.64953112929113, 235.04178799572566, club\n",
      "('Wednesday', 19.041787995725656)\n",
      "210.68.124.185, 46.56336871719933, 6.648431242252003, 297.37760167993076, club\n",
      "('Saturday', 9.377601679930763)\n",
      "210.68.124.185, 46.56336871719933, 6.648431242252003, 320.9086966175637, club\n",
      "('Sunday', 8.908696617563692)\n",
      "210.68.124.185, 46.56920952755545, 6.64953112929113, 354.45264434090996, club\n",
      "('Monday', 18.452644340909956)\n",
      "210.68.124.185, 46.56917669301612, 6.642400892973268, 357.2095292983091, club\n",
      "('Monday', 21.20952929830912)\n",
      "210.68.124.185, 46.56920952755545, 6.64953112929113, 377.6669913786072, club\n",
      "('Tuesday', 17.66699137860718)\n",
      "210.68.124.185, 46.56920952755545, 6.64953112929113, 427.12883821205986, club\n",
      "('Thursday', 19.12883821205986)\n",
      "210.68.124.185, 46.56336871719933, 6.648431242252003, 430.5496669270286, club\n",
      "('Thursday', 22.549666927028625)\n",
      "210.68.124.185, 46.56920952755545, 6.64953112929113, 449.4626990632098, club\n",
      "('Friday', 17.46269906320981)\n",
      "210.68.124.185, 46.56336871719933, 6.648431242252003, 454.6217522340039, club\n",
      "('Friday', 22.621752234003907)\n",
      "210.68.124.185, 46.56336871719933, 6.648431242252003, 464.1135906868431, club\n",
      "('Saturday', 8.11359068684311)\n"
     ]
    }
   ],
   "source": [
    "with open('queries.csv', newline='') as csvfile:\n",
    "    queriesReader = csv.reader(csvfile, delimiter=' ', quotechar='|')\n",
    "    for row in queriesReader:\n",
    "        if row[0] == \"210.68.124.185\" and row[4] == \"club\":\n",
    "            print(', '.join(row))\n",
    "            print(timestamp_to_weekday_and_hour(float(row[3])))"
   ]
  },
  {
   "cell_type": "markdown",
   "metadata": {},
   "source": [
    "This user seems to go clubbing almost every day which is information that should be kept private. We can see that it is very easy and fast to mount such attacks, especially considering this is only focused on one user and proved quite successful.\n",
    "\n",
    "Inferring relationships between users is harder however. In a realistic setting, only one person of a group should be using the app to look for a destination and this seems to be reflected in the data : we did not find multiple users using the app at the exact same time and place. The closest we got to such a find was the following :"
   ]
  },
  {
   "cell_type": "code",
   "execution_count": 7,
   "metadata": {},
   "outputs": [
    {
     "name": "stdout",
     "output_type": "stream",
     "text": [
      "42.58.33.7, 46.54648429922497, 6.57344706420223, 373.25647094335324, cafeteria\n",
      "42.58.33.7, 46.54648429922497, 6.57344706420223, 373.25647094335324, restaurant\n",
      "139.251.47.207, 46.54637740125457, 6.575353054770723, 373.2569389035634, cafeteria\n",
      "139.251.47.207, 46.54637740125457, 6.575353054770723, 373.2569389035634, restaurant\n",
      "65.106.64.1, 46.54242230623346, 6.577281728790473, 373.2541769608664, cafeteria\n",
      "65.106.64.1, 46.54242230623346, 6.577281728790473, 373.2541769608664, restaurant\n"
     ]
    }
   ],
   "source": [
    "with open('queries.csv', newline='') as csvfile:\n",
    "    queriesReader = csv.reader(csvfile, delimiter=' ', quotechar='|')\n",
    "    for row in queriesReader:\n",
    "        if row[1].startswith(\"46.54\") and row[2].startswith(\"6.57\") and row[3].startswith(\"373.25\"):\n",
    "            print(', '.join(row))"
   ]
  },
  {
   "cell_type": "code",
   "execution_count": 8,
   "metadata": {},
   "outputs": [
    {
     "name": "stdout",
     "output_type": "stream",
     "text": [
      "('Tuesday', 13.25)\n"
     ]
    }
   ],
   "source": [
    "print(timestamp_to_weekday_and_hour(373.25))"
   ]
  },
  {
   "cell_type": "markdown",
   "metadata": {},
   "source": [
    "Here, the first and second users are 230m apart and do the same search at almost the same time. However, this is likely a coincidence especially considering how normal it is to look for cafeterias and restaurants at 13:15, even if they were in a fast moving vehicle when doing the searches which would explain why the searches are 230m apart in the hypothetical case where they were friends looking for a meal together. The third user is even further away location wise. \n",
    "\n",
    "In conclusion, we would not spend our time and resources trying to mount attacks trying to infer relationships if we were adversaries and would focus on \"simpler\" attacks which target one user at a time."
   ]
  },
  {
   "cell_type": "markdown",
   "metadata": {},
   "source": [
    "## Part 2.3"
   ]
  },
  {
   "cell_type": "markdown",
   "metadata": {},
   "source": [
    "The defense described in the report should ideally be very smart by producing very realistic random queries so that those random queries are indistinguishable from real ones even by a smart adversary. The interaction between the various fields and between multiple queries would need to be taken into account. For example, multiple fake queries should reuse the exact same location so that an attacker would be led to believe that it is the user's home or worplace. If they were truly random this would not happen and the attacker could easily single out the only queries with repeating locations and conclude that they are real. This logic also applies to other sensitive fields such as the timestamp : the user could wish to hide at which time of the day they are using the app. The defense would then need to produce queries at various times of the day while still being realistic : a smart attacker would discard queries for dojos in a rural area at midnight for example.\n",
    "\n",
    "Since the generation of truly indistinguishable randomized queries from a \"perfectly smart\" attacker is a very complex problem which goes beyond the scope of this defense evaluation, our experiment will consist in a more naive implementation which only uses the strategy to hide the location data of the user. We want to achieve a privacy level of 0.75 (arbitrarily chosen for this experiment) according to the definition described in the report, assuming the only data we consider sensitive is the location against a strategic adversary. 0.75 is very low but will make things far more readable while illustrating the idea. This is thus a subset of the defense described in the report but its analysis produces results which are also applicable to the hypothetical \"perfectly smart\" solution.\n",
    "\n",
    "For this experiment, we also assume that every client is using the defense which is more interesting. In the case where only some of them do, an attacker could easily realise who is defending themself from the volume of queries and focus their efforts on the users who do not use the defense.\n",
    "\n",
    "To simplify the implementation, the generation of fake queries will be procedural and mirror the existing queries except for their location. To achieve a privacy of 0.75, we will thus create 3 fake queries from each real one, only changing the location deterministically which guarantees realism. This deterministic change is intentionally simple : we only change the longitude so that the 4 queries (1 is real and 3 are generated from it) have longitudes as different as possible while still being in the grid. The number of queries is thus multiplied by 4, which increases the workload on the user's device and on the provider's server, which is our utility drawback.\n",
    "\n",
    "Let us take a look at how the previous attacks would look like with such a defense in place :"
   ]
  },
  {
   "cell_type": "code",
   "execution_count": 18,
   "metadata": {},
   "outputs": [
    {
     "name": "stdout",
     "output_type": "stream",
     "text": [
      "210.68.124.185, 46.56336871719933, 6.648431242252003, 24.000999171226507, club\n",
      "210.68.124.185, 46.56336871719933, 6.573431242252004, 24.000999171226507, club\n",
      "210.68.124.185, 46.56336871719933, 6.598431242252004, 24.000999171226507, club\n",
      "210.68.124.185, 46.56336871719933, 6.623431242252004, 24.000999171226507, club\n",
      "197.134.251.204, 46.51384877401542, 6.638021175914131, 192.158234557433, club\n",
      "197.134.251.204, 46.51384877401542, 6.563021175914132, 192.158234557433, club\n",
      "197.134.251.204, 46.51384877401542, 6.5880211759141325, 192.158234557433, club\n",
      "197.134.251.204, 46.51384877401542, 6.613021175914133, 192.158234557433, club\n",
      "250.71.124.231, 46.55215382261362, 6.604171825604082, 192.47575231364215, club\n",
      "250.71.124.231, 46.55215382261362, 6.629171825604082, 192.47575231364215, club\n",
      "250.71.124.231, 46.55215382261362, 6.554171825604083, 192.47575231364215, club\n",
      "250.71.124.231, 46.55215382261362, 6.579171825604083, 192.47575231364215, club\n",
      "247.196.95.171, 46.544409611768295, 6.579111041539487, 192.55236588701695, club\n",
      "247.196.95.171, 46.544409611768295, 6.604111041539487, 192.55236588701695, club\n",
      "247.196.95.171, 46.544409611768295, 6.629111041539487, 192.55236588701695, club\n",
      "247.196.95.171, 46.544409611768295, 6.554111041539488, 192.55236588701695, club\n"
     ]
    }
   ],
   "source": [
    "def print_real_and_3_fakes(row):\n",
    "    print(', '.join(row))\n",
    "    for _ in range(3):\n",
    "        row2 = float(row[2])\n",
    "        row2 += 0.025\n",
    "        if row2 > 6.65:\n",
    "            row2 -= 0.1\n",
    "        row[2] = str(row2)\n",
    "        print(', '.join(row))\n",
    "\n",
    "with open('queries.csv', newline='') as csvfile:\n",
    "    queriesReader = csv.reader(csvfile, delimiter=' ', quotechar='|')\n",
    "    has_header = csv.Sniffer().has_header(csvfile.read(1024))\n",
    "    if has_header:\n",
    "        next(queriesReader)\n",
    "    for row in queriesReader:\n",
    "        weekday, hour = timestamp_to_weekday_and_hour(float(row[3]))\n",
    "        if weekday == \"Tuesday\" and hour < 1 and row[4] == \"club\" :\n",
    "            print_real_and_3_fakes(row)"
   ]
  },
  {
   "cell_type": "markdown",
   "metadata": {},
   "source": [
    "Instead of 4 queries, an attacker would now obtain 16. We of course assume that the attacker would not necessarily retrieve them in this specific order where the first query of a group of 4 is always the real one. Notice how this defense does not even try to hide that some queries are fake, which is fine since we assume the adversary to be aware of the defense mechanism anyway. Also recall that for this simplified defense experiment, we only consider the location to be a sensitive information : an ideal \"perfectly smart solution\" achieving a privacy of 0.75 would produce queries with every field changing except the IP while still being realistic by keeping all interactions into account. However, in the case where the client truly only cares about hiding his location and nothing else, this kind of simple implementation could be sufficient in the case where the grid only covers realistic locations (no lakes, etc). An attacker thus suspects that every query could be real, but since they are indistinguishable he only has a 25% chance of being right for a particular one. \n",
    "\n",
    "Let us now look at the next step of the previous, multi-step attack on the first IP by filtering queries on cafeterias :"
   ]
  },
  {
   "cell_type": "code",
   "execution_count": 21,
   "metadata": {
    "scrolled": false
   },
   "outputs": [
    {
     "name": "stdout",
     "output_type": "stream",
     "text": [
      "210.68.124.185, 46.53976081739804, 6.574063213164034, 11.702267726620121, cafeteria\n",
      "('Monday', 11.702267726620121)\n",
      "210.68.124.185, 46.53976081739804, 6.599063213164034, 11.702267726620121, cafeteria\n",
      "('Monday', 11.702267726620121)\n",
      "210.68.124.185, 46.53976081739804, 6.6240632131640345, 11.702267726620121, cafeteria\n",
      "('Monday', 11.702267726620121)\n",
      "210.68.124.185, 46.53976081739804, 6.649063213164035, 11.702267726620121, cafeteria\n",
      "('Monday', 11.702267726620121)\n",
      "210.68.124.185, 46.53976081739804, 6.574063213164034, 34.50672801621601, cafeteria\n",
      "('Tuesday', 10.506728016216009)\n",
      "210.68.124.185, 46.53976081739804, 6.599063213164034, 34.50672801621601, cafeteria\n",
      "('Tuesday', 10.506728016216009)\n",
      "210.68.124.185, 46.53976081739804, 6.6240632131640345, 34.50672801621601, cafeteria\n",
      "('Tuesday', 10.506728016216009)\n",
      "210.68.124.185, 46.53976081739804, 6.649063213164035, 34.50672801621601, cafeteria\n",
      "('Tuesday', 10.506728016216009)\n",
      "210.68.124.185, 46.53976081739804, 6.574063213164034, 59.71451503914215, cafeteria\n",
      "('Wednesday', 11.71451503914215)\n",
      "210.68.124.185, 46.53976081739804, 6.599063213164034, 59.71451503914215, cafeteria\n",
      "('Wednesday', 11.71451503914215)\n",
      "210.68.124.185, 46.53976081739804, 6.6240632131640345, 59.71451503914215, cafeteria\n",
      "('Wednesday', 11.71451503914215)\n",
      "210.68.124.185, 46.53976081739804, 6.649063213164035, 59.71451503914215, cafeteria\n",
      "('Wednesday', 11.71451503914215)\n",
      "210.68.124.185, 46.53976081739804, 6.574063213164034, 84.38001956058253, cafeteria\n",
      "('Thursday', 12.380019560582525)\n",
      "210.68.124.185, 46.53976081739804, 6.599063213164034, 84.38001956058253, cafeteria\n",
      "('Thursday', 12.380019560582525)\n",
      "210.68.124.185, 46.53976081739804, 6.6240632131640345, 84.38001956058253, cafeteria\n",
      "('Thursday', 12.380019560582525)\n",
      "210.68.124.185, 46.53976081739804, 6.649063213164035, 84.38001956058253, cafeteria\n",
      "('Thursday', 12.380019560582525)\n",
      "210.68.124.185, 46.53976081739804, 6.574063213164034, 108.59528266831816, cafeteria\n",
      "('Friday', 12.595282668318163)\n",
      "210.68.124.185, 46.53976081739804, 6.599063213164034, 108.59528266831816, cafeteria\n",
      "('Friday', 12.595282668318163)\n",
      "210.68.124.185, 46.53976081739804, 6.6240632131640345, 108.59528266831816, cafeteria\n",
      "('Friday', 12.595282668318163)\n",
      "210.68.124.185, 46.53976081739804, 6.649063213164035, 108.59528266831816, cafeteria\n",
      "('Friday', 12.595282668318163)\n",
      "210.68.124.185, 46.53976081739804, 6.574063213164034, 180.02441857824775, cafeteria\n",
      "('Monday', 12.024418578247747)\n",
      "210.68.124.185, 46.53976081739804, 6.599063213164034, 180.02441857824775, cafeteria\n",
      "('Monday', 12.024418578247747)\n",
      "210.68.124.185, 46.53976081739804, 6.6240632131640345, 180.02441857824775, cafeteria\n",
      "('Monday', 12.024418578247747)\n",
      "210.68.124.185, 46.53976081739804, 6.649063213164035, 180.02441857824775, cafeteria\n",
      "('Monday', 12.024418578247747)\n",
      "210.68.124.185, 46.53976081739804, 6.574063213164034, 203.04560260796723, cafeteria\n",
      "('Tuesday', 11.045602607967226)\n",
      "210.68.124.185, 46.53976081739804, 6.599063213164034, 203.04560260796723, cafeteria\n",
      "('Tuesday', 11.045602607967226)\n",
      "210.68.124.185, 46.53976081739804, 6.6240632131640345, 203.04560260796723, cafeteria\n",
      "('Tuesday', 11.045602607967226)\n",
      "210.68.124.185, 46.53976081739804, 6.649063213164035, 203.04560260796723, cafeteria\n",
      "('Tuesday', 11.045602607967226)\n",
      "210.68.124.185, 46.53976081739804, 6.574063213164034, 227.94540536756293, cafeteria\n",
      "('Wednesday', 11.945405367562927)\n",
      "210.68.124.185, 46.53976081739804, 6.599063213164034, 227.94540536756293, cafeteria\n",
      "('Wednesday', 11.945405367562927)\n",
      "210.68.124.185, 46.53976081739804, 6.6240632131640345, 227.94540536756293, cafeteria\n",
      "('Wednesday', 11.945405367562927)\n",
      "210.68.124.185, 46.53976081739804, 6.649063213164035, 227.94540536756293, cafeteria\n",
      "('Wednesday', 11.945405367562927)\n",
      "210.68.124.185, 46.53976081739804, 6.574063213164034, 252.43632281906264, cafeteria\n",
      "('Thursday', 12.436322819062639)\n",
      "210.68.124.185, 46.53976081739804, 6.599063213164034, 252.43632281906264, cafeteria\n",
      "('Thursday', 12.436322819062639)\n",
      "210.68.124.185, 46.53976081739804, 6.6240632131640345, 252.43632281906264, cafeteria\n",
      "('Thursday', 12.436322819062639)\n",
      "210.68.124.185, 46.53976081739804, 6.649063213164035, 252.43632281906264, cafeteria\n",
      "('Thursday', 12.436322819062639)\n",
      "210.68.124.185, 46.53976081739804, 6.574063213164034, 274.88060533601976, cafeteria\n",
      "('Friday', 10.880605336019755)\n",
      "210.68.124.185, 46.53976081739804, 6.599063213164034, 274.88060533601976, cafeteria\n",
      "('Friday', 10.880605336019755)\n",
      "210.68.124.185, 46.53976081739804, 6.6240632131640345, 274.88060533601976, cafeteria\n",
      "('Friday', 10.880605336019755)\n",
      "210.68.124.185, 46.53976081739804, 6.649063213164035, 274.88060533601976, cafeteria\n",
      "('Friday', 10.880605336019755)\n",
      "210.68.124.185, 46.53976081739804, 6.574063213164034, 346.08833706823157, cafeteria\n",
      "('Monday', 10.088337068231567)\n",
      "210.68.124.185, 46.53976081739804, 6.599063213164034, 346.08833706823157, cafeteria\n",
      "('Monday', 10.088337068231567)\n",
      "210.68.124.185, 46.53976081739804, 6.6240632131640345, 346.08833706823157, cafeteria\n",
      "('Monday', 10.088337068231567)\n",
      "210.68.124.185, 46.53976081739804, 6.649063213164035, 346.08833706823157, cafeteria\n",
      "('Monday', 10.088337068231567)\n",
      "210.68.124.185, 46.53976081739804, 6.574063213164034, 371.69815689120355, cafeteria\n",
      "('Tuesday', 11.698156891203553)\n",
      "210.68.124.185, 46.53976081739804, 6.599063213164034, 371.69815689120355, cafeteria\n",
      "('Tuesday', 11.698156891203553)\n",
      "210.68.124.185, 46.53976081739804, 6.6240632131640345, 371.69815689120355, cafeteria\n",
      "('Tuesday', 11.698156891203553)\n",
      "210.68.124.185, 46.53976081739804, 6.649063213164035, 371.69815689120355, cafeteria\n",
      "('Tuesday', 11.698156891203553)\n",
      "210.68.124.185, 46.53976081739804, 6.574063213164034, 397.3421761527085, cafeteria\n",
      "('Wednesday', 13.342176152708475)\n",
      "210.68.124.185, 46.53976081739804, 6.599063213164034, 397.3421761527085, cafeteria\n",
      "('Wednesday', 13.342176152708475)\n",
      "210.68.124.185, 46.53976081739804, 6.6240632131640345, 397.3421761527085, cafeteria\n",
      "('Wednesday', 13.342176152708475)\n",
      "210.68.124.185, 46.53976081739804, 6.649063213164035, 397.3421761527085, cafeteria\n",
      "('Wednesday', 13.342176152708475)\n",
      "210.68.124.185, 46.53976081739804, 6.574063213164034, 419.7322795993179, cafeteria\n",
      "('Thursday', 11.732279599317906)\n",
      "210.68.124.185, 46.53976081739804, 6.599063213164034, 419.7322795993179, cafeteria\n",
      "('Thursday', 11.732279599317906)\n",
      "210.68.124.185, 46.53976081739804, 6.6240632131640345, 419.7322795993179, cafeteria\n",
      "('Thursday', 11.732279599317906)\n",
      "210.68.124.185, 46.53976081739804, 6.649063213164035, 419.7322795993179, cafeteria\n",
      "('Thursday', 11.732279599317906)\n",
      "210.68.124.185, 46.53976081739804, 6.574063213164034, 445.14636552594277, cafeteria\n",
      "('Friday', 13.14636552594277)\n",
      "210.68.124.185, 46.53976081739804, 6.599063213164034, 445.14636552594277, cafeteria\n",
      "('Friday', 13.14636552594277)\n",
      "210.68.124.185, 46.53976081739804, 6.6240632131640345, 445.14636552594277, cafeteria\n",
      "('Friday', 13.14636552594277)\n",
      "210.68.124.185, 46.53976081739804, 6.649063213164035, 445.14636552594277, cafeteria\n",
      "('Friday', 13.14636552594277)\n"
     ]
    }
   ],
   "source": [
    "def print_real_and_3_fakes_with_time(row):\n",
    "    print(', '.join(row))\n",
    "    print(timestamp_to_weekday_and_hour(float(row[3])))\n",
    "    for _ in range(3):\n",
    "        row2 = float(row[2])\n",
    "        row2 += 0.025   # quarter of the longitude length of the grid\n",
    "        if row2 > 6.65:   #rightmost longitude of the grid\n",
    "            row2 -= 0.1   # the longitude length of the grid\n",
    "        row[2] = str(row2)\n",
    "        print(', '.join(row))\n",
    "        print(timestamp_to_weekday_and_hour(float(row[3])))\n",
    "\n",
    "with open('queries.csv', newline='') as csvfile:\n",
    "    queriesReader = csv.reader(csvfile, delimiter=' ', quotechar='|')\n",
    "    for row in queriesReader:\n",
    "        if row[0] == \"210.68.124.185\" and row[4] == \"cafeteria\":\n",
    "            print_real_and_3_fakes_with_time(row)"
   ]
  },
  {
   "cell_type": "markdown",
   "metadata": {},
   "source": [
    "The attacker's task of identifying where the user works is now 4 times as hard since there are 4 locations which are strong contenders.\n",
    "\n",
    "Let us now look at the supermarket filter to find out where the user lives :"
   ]
  },
  {
   "cell_type": "code",
   "execution_count": 22,
   "metadata": {},
   "outputs": [
    {
     "name": "stdout",
     "output_type": "stream",
     "text": [
      "210.68.124.185, 46.56920952755545, 6.64953112929113, 17.660631454803113, supermarket\n",
      "('Monday', 17.660631454803113)\n",
      "210.68.124.185, 46.56920952755545, 6.574531129291131, 17.660631454803113, supermarket\n",
      "('Monday', 17.660631454803113)\n",
      "210.68.124.185, 46.56920952755545, 6.599531129291131, 17.660631454803113, supermarket\n",
      "('Monday', 17.660631454803113)\n",
      "210.68.124.185, 46.56920952755545, 6.624531129291132, 17.660631454803113, supermarket\n",
      "('Monday', 17.660631454803113)\n",
      "210.68.124.185, 46.56920952755545, 6.64953112929113, 43.62313486438009, supermarket\n",
      "('Tuesday', 19.62313486438009)\n",
      "210.68.124.185, 46.56920952755545, 6.574531129291131, 43.62313486438009, supermarket\n",
      "('Tuesday', 19.62313486438009)\n",
      "210.68.124.185, 46.56920952755545, 6.599531129291131, 43.62313486438009, supermarket\n",
      "('Tuesday', 19.62313486438009)\n",
      "210.68.124.185, 46.56920952755545, 6.624531129291132, 43.62313486438009, supermarket\n",
      "('Tuesday', 19.62313486438009)\n",
      "210.68.124.185, 46.56336871719933, 6.648431242252003, 24.000999171226507, supermarket\n",
      "('Tuesday', 0.0009991712265069452)\n",
      "210.68.124.185, 46.56336871719933, 6.573431242252004, 24.000999171226507, supermarket\n",
      "('Tuesday', 0.0009991712265069452)\n",
      "210.68.124.185, 46.56336871719933, 6.598431242252004, 24.000999171226507, supermarket\n",
      "('Tuesday', 0.0009991712265069452)\n",
      "210.68.124.185, 46.56336871719933, 6.623431242252004, 24.000999171226507, supermarket\n",
      "('Tuesday', 0.0009991712265069452)\n",
      "210.68.124.185, 46.56596058841714, 6.642228369125065, 69.31305252574826, supermarket\n",
      "('Wednesday', 21.31305252574826)\n",
      "210.68.124.185, 46.56596058841714, 6.567228369125066, 69.31305252574826, supermarket\n",
      "('Wednesday', 21.31305252574826)\n",
      "210.68.124.185, 46.56596058841714, 6.592228369125066, 69.31305252574826, supermarket\n",
      "('Wednesday', 21.31305252574826)\n",
      "210.68.124.185, 46.56596058841714, 6.617228369125066, 69.31305252574826, supermarket\n",
      "('Wednesday', 21.31305252574826)\n",
      "210.68.124.185, 46.56920952755545, 6.64953112929113, 89.10384857262238, supermarket\n",
      "('Thursday', 17.103848572622383)\n",
      "210.68.124.185, 46.56920952755545, 6.574531129291131, 89.10384857262238, supermarket\n",
      "('Thursday', 17.103848572622383)\n",
      "210.68.124.185, 46.56920952755545, 6.599531129291131, 89.10384857262238, supermarket\n",
      "('Thursday', 17.103848572622383)\n",
      "210.68.124.185, 46.56920952755545, 6.624531129291132, 89.10384857262238, supermarket\n",
      "('Thursday', 17.103848572622383)\n",
      "210.68.124.185, 46.56596058841714, 6.642228369125065, 94.4445729732377, supermarket\n",
      "('Thursday', 22.444572973237698)\n",
      "210.68.124.185, 46.56596058841714, 6.567228369125066, 94.4445729732377, supermarket\n",
      "('Thursday', 22.444572973237698)\n",
      "210.68.124.185, 46.56596058841714, 6.592228369125066, 94.4445729732377, supermarket\n",
      "('Thursday', 22.444572973237698)\n",
      "210.68.124.185, 46.56596058841714, 6.617228369125066, 94.4445729732377, supermarket\n",
      "('Thursday', 22.444572973237698)\n",
      "210.68.124.185, 46.56920952755545, 6.64953112929113, 113.61852528201781, supermarket\n",
      "('Friday', 17.618525282017814)\n",
      "210.68.124.185, 46.56920952755545, 6.574531129291131, 113.61852528201781, supermarket\n",
      "('Friday', 17.618525282017814)\n",
      "210.68.124.185, 46.56920952755545, 6.599531129291131, 113.61852528201781, supermarket\n",
      "('Friday', 17.618525282017814)\n",
      "210.68.124.185, 46.56920952755545, 6.624531129291132, 113.61852528201781, supermarket\n",
      "('Friday', 17.618525282017814)\n",
      "210.68.124.185, 46.56596058841714, 6.642228369125065, 128.04058654198784, supermarket\n",
      "('Saturday', 8.040586541987835)\n",
      "210.68.124.185, 46.56596058841714, 6.567228369125066, 128.04058654198784, supermarket\n",
      "('Saturday', 8.040586541987835)\n",
      "210.68.124.185, 46.56596058841714, 6.592228369125066, 128.04058654198784, supermarket\n",
      "('Saturday', 8.040586541987835)\n",
      "210.68.124.185, 46.56596058841714, 6.617228369125066, 128.04058654198784, supermarket\n",
      "('Saturday', 8.040586541987835)\n",
      "210.68.124.185, 46.56596058841714, 6.642228369125065, 188.631825603119, supermarket\n",
      "('Monday', 20.63182560311901)\n",
      "210.68.124.185, 46.56596058841714, 6.567228369125066, 188.631825603119, supermarket\n",
      "('Monday', 20.63182560311901)\n",
      "210.68.124.185, 46.56596058841714, 6.592228369125066, 188.631825603119, supermarket\n",
      "('Monday', 20.63182560311901)\n",
      "210.68.124.185, 46.56596058841714, 6.617228369125066, 188.631825603119, supermarket\n",
      "('Monday', 20.63182560311901)\n",
      "210.68.124.185, 46.56602075384202, 6.643414048570928, 237.35714794043915, supermarket\n",
      "('Wednesday', 21.357147940439148)\n",
      "210.68.124.185, 46.56602075384202, 6.568414048570928, 237.35714794043915, supermarket\n",
      "('Wednesday', 21.357147940439148)\n",
      "210.68.124.185, 46.56602075384202, 6.593414048570929, 237.35714794043915, supermarket\n",
      "('Wednesday', 21.357147940439148)\n",
      "210.68.124.185, 46.56602075384202, 6.618414048570929, 237.35714794043915, supermarket\n",
      "('Wednesday', 21.357147940439148)\n",
      "210.68.124.185, 46.56920952755545, 6.64953112929113, 297.37760167993076, supermarket\n",
      "('Saturday', 9.377601679930763)\n",
      "210.68.124.185, 46.56920952755545, 6.574531129291131, 297.37760167993076, supermarket\n",
      "('Saturday', 9.377601679930763)\n",
      "210.68.124.185, 46.56920952755545, 6.599531129291131, 297.37760167993076, supermarket\n",
      "('Saturday', 9.377601679930763)\n",
      "210.68.124.185, 46.56920952755545, 6.624531129291132, 297.37760167993076, supermarket\n",
      "('Saturday', 9.377601679930763)\n",
      "210.68.124.185, 46.56596058841714, 6.642228369125065, 320.9086966175637, supermarket\n",
      "('Sunday', 8.908696617563692)\n",
      "210.68.124.185, 46.56596058841714, 6.567228369125066, 320.9086966175637, supermarket\n",
      "('Sunday', 8.908696617563692)\n",
      "210.68.124.185, 46.56596058841714, 6.592228369125066, 320.9086966175637, supermarket\n",
      "('Sunday', 8.908696617563692)\n",
      "210.68.124.185, 46.56596058841714, 6.617228369125066, 320.9086966175637, supermarket\n",
      "('Sunday', 8.908696617563692)\n",
      "210.68.124.185, 46.56920952755545, 6.64953112929113, 354.45264434090996, supermarket\n",
      "('Monday', 18.452644340909956)\n",
      "210.68.124.185, 46.56920952755545, 6.574531129291131, 354.45264434090996, supermarket\n",
      "('Monday', 18.452644340909956)\n",
      "210.68.124.185, 46.56920952755545, 6.599531129291131, 354.45264434090996, supermarket\n",
      "('Monday', 18.452644340909956)\n",
      "210.68.124.185, 46.56920952755545, 6.624531129291132, 354.45264434090996, supermarket\n",
      "('Monday', 18.452644340909956)\n",
      "210.68.124.185, 46.56917669301612, 6.642400892973268, 381.81057587389324, supermarket\n",
      "('Tuesday', 21.810575873893242)\n",
      "210.68.124.185, 46.56917669301612, 6.567400892973269, 381.81057587389324, supermarket\n",
      "('Tuesday', 21.810575873893242)\n",
      "210.68.124.185, 46.56917669301612, 6.592400892973269, 381.81057587389324, supermarket\n",
      "('Tuesday', 21.810575873893242)\n",
      "210.68.124.185, 46.56917669301612, 6.6174008929732695, 381.81057587389324, supermarket\n",
      "('Tuesday', 21.810575873893242)\n",
      "210.68.124.185, 46.56920952755545, 6.64953112929113, 402.9124719760297, supermarket\n",
      "('Wednesday', 18.91247197602968)\n",
      "210.68.124.185, 46.56920952755545, 6.574531129291131, 402.9124719760297, supermarket\n",
      "('Wednesday', 18.91247197602968)\n",
      "210.68.124.185, 46.56920952755545, 6.599531129291131, 402.9124719760297, supermarket\n",
      "('Wednesday', 18.91247197602968)\n",
      "210.68.124.185, 46.56920952755545, 6.624531129291132, 402.9124719760297, supermarket\n",
      "('Wednesday', 18.91247197602968)\n",
      "210.68.124.185, 46.56336871719933, 6.648431242252003, 406.5214907870679, supermarket\n",
      "('Wednesday', 22.521490787067876)\n",
      "210.68.124.185, 46.56336871719933, 6.573431242252004, 406.5214907870679, supermarket\n",
      "('Wednesday', 22.521490787067876)\n",
      "210.68.124.185, 46.56336871719933, 6.598431242252004, 406.5214907870679, supermarket\n",
      "('Wednesday', 22.521490787067876)\n",
      "210.68.124.185, 46.56336871719933, 6.623431242252004, 406.5214907870679, supermarket\n",
      "('Wednesday', 22.521490787067876)\n",
      "210.68.124.185, 46.56920952755545, 6.64953112929113, 427.12883821205986, supermarket\n",
      "('Thursday', 19.12883821205986)\n",
      "210.68.124.185, 46.56920952755545, 6.574531129291131, 427.12883821205986, supermarket\n",
      "('Thursday', 19.12883821205986)\n",
      "210.68.124.185, 46.56920952755545, 6.599531129291131, 427.12883821205986, supermarket\n",
      "('Thursday', 19.12883821205986)\n",
      "210.68.124.185, 46.56920952755545, 6.624531129291132, 427.12883821205986, supermarket\n",
      "('Thursday', 19.12883821205986)\n",
      "210.68.124.185, 46.56336871719933, 6.648431242252003, 430.5496669270286, supermarket\n",
      "('Thursday', 22.549666927028625)\n",
      "210.68.124.185, 46.56336871719933, 6.573431242252004, 430.5496669270286, supermarket\n",
      "('Thursday', 22.549666927028625)\n",
      "210.68.124.185, 46.56336871719933, 6.598431242252004, 430.5496669270286, supermarket\n",
      "('Thursday', 22.549666927028625)\n",
      "210.68.124.185, 46.56336871719933, 6.623431242252004, 430.5496669270286, supermarket\n",
      "('Thursday', 22.549666927028625)\n",
      "210.68.124.185, 46.56920952755545, 6.64953112929113, 449.4626990632098, supermarket\n",
      "('Friday', 17.46269906320981)\n",
      "210.68.124.185, 46.56920952755545, 6.574531129291131, 449.4626990632098, supermarket\n",
      "('Friday', 17.46269906320981)\n",
      "210.68.124.185, 46.56920952755545, 6.599531129291131, 449.4626990632098, supermarket\n",
      "('Friday', 17.46269906320981)\n",
      "210.68.124.185, 46.56920952755545, 6.624531129291132, 449.4626990632098, supermarket\n",
      "('Friday', 17.46269906320981)\n",
      "210.68.124.185, 46.56336871719933, 6.648431242252003, 454.6217522340039, supermarket\n",
      "('Friday', 22.621752234003907)\n",
      "210.68.124.185, 46.56336871719933, 6.573431242252004, 454.6217522340039, supermarket\n",
      "('Friday', 22.621752234003907)\n",
      "210.68.124.185, 46.56336871719933, 6.598431242252004, 454.6217522340039, supermarket\n",
      "('Friday', 22.621752234003907)\n",
      "210.68.124.185, 46.56336871719933, 6.623431242252004, 454.6217522340039, supermarket\n",
      "('Friday', 22.621752234003907)\n",
      "210.68.124.185, 46.56920952755545, 6.64953112929113, 464.1135906868431, supermarket\n",
      "('Saturday', 8.11359068684311)\n",
      "210.68.124.185, 46.56920952755545, 6.574531129291131, 464.1135906868431, supermarket\n",
      "('Saturday', 8.11359068684311)\n",
      "210.68.124.185, 46.56920952755545, 6.599531129291131, 464.1135906868431, supermarket\n",
      "('Saturday', 8.11359068684311)\n",
      "210.68.124.185, 46.56920952755545, 6.624531129291132, 464.1135906868431, supermarket\n",
      "('Saturday', 8.11359068684311)\n"
     ]
    }
   ],
   "source": [
    "with open('queries.csv', newline='') as csvfile:\n",
    "    queriesReader = csv.reader(csvfile, delimiter=' ', quotechar='|')\n",
    "    for row in queriesReader:\n",
    "        if row[0] == \"210.68.124.185\" and row[4] == \"supermarket\":\n",
    "            print_real_and_3_fakes_with_time(row)"
   ]
  },
  {
   "cell_type": "markdown",
   "metadata": {},
   "source": [
    "Instead of having only 2 locations which are close to each other, there are now 4 such pairs.\n",
    "\n",
    "The solution achieved the low goal of 0.75 privacy for the location data, which only quadruples the amount of queries. Because of the light weight of queries, much higher privacies could be feasible. This kind of defense is especially strong when the adversary has no way to check each location with a reliable way to confirm if it is correct (which would require additional information) : such an attacker must bring themself to accept that any of the locations could be the correct one with no certainty.\n",
    "\n",
    "However, if the attacker has a way to verify each query, then this defense only multiplies the amount of work they must do to figure out the real information. This work scales linearly with the amount of fake queries produced (as long as they are realistic which is the biggest challenge). However, in a realistic context, generating one fake query should be  cheaper for the client than the verification process of each query on the part of the attacker, which requires \"real world\" knowledge. We thus tend to think that this is very much a viable strategy in general. The biggest challenge resides in randomly generating realistic queries, which would require much more complex experiments."
   ]
  },
  {
   "cell_type": "code",
   "execution_count": null,
   "metadata": {},
   "outputs": [],
   "source": []
  }
 ],
 "metadata": {
  "kernelspec": {
   "display_name": "Python 3",
   "language": "python",
   "name": "python3"
  },
  "language_info": {
   "codemirror_mode": {
    "name": "ipython",
    "version": 3
   },
   "file_extension": ".py",
   "mimetype": "text/x-python",
   "name": "python",
   "nbconvert_exporter": "python",
   "pygments_lexer": "ipython3",
   "version": "3.8.5"
  }
 },
 "nbformat": 4,
 "nbformat_minor": 4
}
