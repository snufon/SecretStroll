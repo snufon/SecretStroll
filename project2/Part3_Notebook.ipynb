{
 "cells": [
  {
   "cell_type": "code",
   "execution_count": 519,
   "id": "70ca88ad",
   "metadata": {},
   "outputs": [
    {
     "name": "stdout",
     "output_type": "stream",
     "text": [
      "The autoreload extension is already loaded. To reload it, use:\n",
      "  %reload_ext autoreload\n"
     ]
    }
   ],
   "source": [
    "%load_ext autoreload\n",
    "%autoreload 2"
   ]
  },
  {
   "cell_type": "code",
   "execution_count": 520,
   "id": "e73b9631",
   "metadata": {},
   "outputs": [],
   "source": [
    "import numpy as np\n",
    "import pandas as pd\n",
    "from scapy.all import *\n",
    "from statistics import mean, stdev\n",
    "from fingerprinting import perform_crossval\n",
    "\n",
    "from sklearn.model_selection import train_test_split\n",
    "from sklearn.ensemble import RandomForestClassifier\n",
    "from sklearn.model_selection import StratifiedKFold"
   ]
  },
  {
   "cell_type": "code",
   "execution_count": 521,
   "id": "d6b2403a",
   "metadata": {},
   "outputs": [
    {
     "name": "stdout",
     "output_type": "stream",
     "text": [
      "Accuracy of current model:  68.65 %\n"
     ]
    }
   ],
   "source": [
    "try:\n",
    "    data_set = pd.read_csv(\"fingerprinting.csv\", index_col = \"Unnamed: 0\")\n",
    "except Exception as e:\n",
    "    data_set = load_data()\n",
    "    data_set.to_csv(\"fingerprinting.csv\")\n",
    "\n",
    "features = data_set[[\"Number packets\", \"Total time\", \"Bytes Sent by Server\", \"Average Time Between Packets\", \"Std Time Between Packets\"]].to_numpy()\n",
    "labels = data_set[\"Cell\"].to_numpy()\n",
    "\n",
    "accuracy = perform_crossval(features, labels, folds=10, nb_estimators = 200)\n",
    "print(\"Accuracy of current model: \", accuracy*100,\"%\")"
   ]
  },
  {
   "cell_type": "markdown",
   "id": "ad75e293",
   "metadata": {},
   "source": [
    "## Feature Importance"
   ]
  },
  {
   "cell_type": "code",
   "execution_count": 523,
   "id": "a217852f",
   "metadata": {},
   "outputs": [
    {
     "data": {
      "text/plain": [
       "RandomForestClassifier()"
      ]
     },
     "execution_count": 523,
     "metadata": {},
     "output_type": "execute_result"
    }
   ],
   "source": [
    "clf = RandomForestClassifier()\n",
    "clf.fit(features, labels)"
   ]
  },
  {
   "cell_type": "code",
   "execution_count": 524,
   "id": "c51893ca",
   "metadata": {},
   "outputs": [],
   "source": [
    "importances = clf.feature_importances_\n",
    "std = np.std([\n",
    "tree.feature_importances_ for tree in clf.estimators_], axis=0)"
   ]
  },
  {
   "cell_type": "code",
   "execution_count": 525,
   "id": "6f637932",
   "metadata": {},
   "outputs": [
    {
     "data": {
      "image/png": "[encoded data removed]",
      "text/plain": [
       "<Figure size 864x288 with 1 Axes>"
      ]
     },
     "metadata": {
      "needs_background": "light"
     },
     "output_type": "display_data"
    }
   ],
   "source": [
    "import pandas as pd\n",
    "forest_importances = pd.Series(importances, index=[\"Number of packets\", \"Total time\", \"Bytes Sent by Server\", \"Average Time Between Packets\", \"Std Time Between Packets\"])\n",
    "\n",
    "fig, ax = plt.subplots()\n",
    "forest_importances.plot.bar(yerr=std, ax=ax, rot = 0,figsize = (12,4))\n",
    "ax.set_title(\"Feature importances using Random Forest Classifier\")\n",
    "fig.tight_layout()"
   ]
  },
  {
   "cell_type": "code",
   "execution_count": 522,
   "id": "69d8e387",
   "metadata": {},
   "outputs": [],
   "source": [
    "fig.savefig(\"feature_importance.jpg\")"
   ]
  },
  {
   "cell_type": "code",
   "execution_count": null,
   "id": "3b7ace65",
   "metadata": {},
   "outputs": [],
   "source": []
  }
 ],
 "metadata": {
  "kernelspec": {
   "display_name": "Python 3",
   "language": "python",
   "name": "python3"
  },
  "language_info": {
   "codemirror_mode": {
    "name": "ipython",
    "version": 3
   },
   "file_extension": ".py",
   "mimetype": "text/x-python",
   "name": "python",
   "nbconvert_exporter": "python",
   "pygments_lexer": "ipython3",
   "version": "3.8.8"
  }
 },
 "nbformat": 4,
 "nbformat_minor": 5
}
